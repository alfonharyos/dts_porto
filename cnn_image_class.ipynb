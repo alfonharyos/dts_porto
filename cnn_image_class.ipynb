{
  "cells": [
    {
      "cell_type": "markdown",
      "metadata": {
        "id": "view-in-github",
        "colab_type": "text"
      },
      "source": [
        "<a href=\"https://colab.research.google.com/github/alfonharyos/dts_porto/blob/main/cnn_image_class.ipynb\" target=\"_parent\"><img src=\"https://colab.research.google.com/assets/colab-badge.svg\" alt=\"Open In Colab\"/></a>"
      ]
    },
    {
      "cell_type": "markdown",
      "metadata": {
        "id": "8MiMTc5_NNPj"
      },
      "source": [
        "#Challenge"
      ]
    },
    {
      "cell_type": "code",
      "execution_count": null,
      "metadata": {
        "id": "QP1q2srGNNPo"
      },
      "outputs": [],
      "source": [
        "# If additional packages are needed but are not installed by default, uncomment the last two lines of this cell\n",
        "# and replace <package list> with a list of additional packages.\n",
        "# This will ensure the notebook has all the dependencies and works everywhere\n",
        "\n",
        "#import sys\n",
        "#!{sys.executable} -m pip install <package list>"
      ]
    },
    {
      "cell_type": "code",
      "execution_count": null,
      "metadata": {
        "id": "7pi0AWbCYS2z",
        "colab": {
          "base_uri": "https://localhost:8080/"
        },
        "outputId": "27cb3079-be46-44a9-91d8-55b5c9075472"
      },
      "outputs": [
        {
          "output_type": "stream",
          "name": "stdout",
          "text": [
            "Looking in indexes: https://pypi.org/simple, https://us-python.pkg.dev/colab-wheels/public/simple/\n",
            "Requirement already satisfied: wget in /usr/local/lib/python3.7/dist-packages (3.2)\n",
            "Looking in indexes: https://pypi.org/simple, https://us-python.pkg.dev/colab-wheels/public/simple/\n",
            "\u001b[31mERROR: Could not find a version that satisfies the requirement shutil (from versions: none)\u001b[0m\n",
            "\u001b[31mERROR: No matching distribution found for shutil\u001b[0m\n"
          ]
        }
      ],
      "source": [
        "import sys\n",
        "!{sys.executable} -m pip install wget\n",
        "!{sys.executable} -m pip install shutil"
      ]
    },
    {
      "cell_type": "code",
      "execution_count": null,
      "metadata": {
        "id": "ZnKy7tPyNNPs"
      },
      "outputs": [],
      "source": [
        "# Libraries\n",
        "import pandas as pd\n",
        "import os\n",
        "from shutil import unpack_archive\n",
        "pd.set_option(\"display.max_columns\", 101)"
      ]
    },
    {
      "cell_type": "markdown",
      "metadata": {
        "id": "3DZrs3tbNNPv"
      },
      "source": [
        "## Dataset"
      ]
    },
    {
      "cell_type": "code",
      "execution_count": null,
      "metadata": {
        "id": "YD6KBDnWYS22",
        "colab": {
          "base_uri": "https://localhost:8080/"
        },
        "outputId": "6ad44bfa-4825-45dd-f0a9-0117b18a07d5"
      },
      "outputs": [
        {
          "output_type": "stream",
          "name": "stdout",
          "text": [
            "--2022-06-21 12:29:39--  https://hr-projects-assets-prod.s3.amazonaws.com/1iaanii247i/8c7bc0c59ee6bcdb3646a1997606a9d0/test.zip\n",
            "Resolving hr-projects-assets-prod.s3.amazonaws.com (hr-projects-assets-prod.s3.amazonaws.com)... 52.216.108.203\n",
            "Connecting to hr-projects-assets-prod.s3.amazonaws.com (hr-projects-assets-prod.s3.amazonaws.com)|52.216.108.203|:443... connected.\n",
            "HTTP request sent, awaiting response... 200 OK\n",
            "Length: 58948996 (56M) [application/zip]\n",
            "Saving to: ‘test.zip’\n",
            "\n",
            "test.zip            100%[===================>]  56.22M  12.6MB/s    in 5.6s    \n",
            "\n",
            "2022-06-21 12:29:46 (9.96 MB/s) - ‘test.zip’ saved [58948996/58948996]\n",
            "\n",
            "--2022-06-21 12:29:46--  https://hr-projects-assets-prod.s3.amazonaws.com/1iaanii247i/ffe8804da24b94ee410a8730ba297dfc/train_0.zip\n",
            "Resolving hr-projects-assets-prod.s3.amazonaws.com (hr-projects-assets-prod.s3.amazonaws.com)... 52.216.41.233\n",
            "Connecting to hr-projects-assets-prod.s3.amazonaws.com (hr-projects-assets-prod.s3.amazonaws.com)|52.216.41.233|:443... connected.\n",
            "HTTP request sent, awaiting response... 200 OK\n",
            "Length: 85750296 (82M) [binary/octet-stream]\n",
            "Saving to: ‘train_0.zip’\n",
            "\n",
            "train_0.zip         100%[===================>]  81.78M  12.2MB/s    in 8.2s    \n",
            "\n",
            "2022-06-21 12:29:55 (9.92 MB/s) - ‘train_0.zip’ saved [85750296/85750296]\n",
            "\n",
            "--2022-06-21 12:29:55--  https://hr-projects-assets-prod.s3.amazonaws.com/1iaanii247i/5460fcc87e2d7f7e19c17f719e0df00a/train_1.zip\n",
            "Resolving hr-projects-assets-prod.s3.amazonaws.com (hr-projects-assets-prod.s3.amazonaws.com)... 52.216.84.80\n",
            "Connecting to hr-projects-assets-prod.s3.amazonaws.com (hr-projects-assets-prod.s3.amazonaws.com)|52.216.84.80|:443... connected.\n",
            "HTTP request sent, awaiting response... 200 OK\n",
            "Length: 83582710 (80M) [binary/octet-stream]\n",
            "Saving to: ‘train_1.zip’\n",
            "\n",
            "train_1.zip         100%[===================>]  79.71M  13.0MB/s    in 7.5s    \n",
            "\n",
            "2022-06-21 12:30:03 (10.6 MB/s) - ‘train_1.zip’ saved [83582710/83582710]\n",
            "\n",
            "Extracting Train Dataset : Label 1\n",
            "Extracting Train Dataset : Label 0\n",
            "Extracting Test Dataset\n",
            "Dataset Extracted\n",
            "Extra Files Removed\n"
          ]
        }
      ],
      "source": [
        "# Run this cell block to download and extract image data\n",
        "!wget 'https://hr-projects-assets-prod.s3.amazonaws.com/1iaanii247i/8c7bc0c59ee6bcdb3646a1997606a9d0/test.zip'\n",
        "!wget 'https://hr-projects-assets-prod.s3.amazonaws.com/1iaanii247i/ffe8804da24b94ee410a8730ba297dfc/train_0.zip'\n",
        "!wget 'https://hr-projects-assets-prod.s3.amazonaws.com/1iaanii247i/5460fcc87e2d7f7e19c17f719e0df00a/train_1.zip'\n",
        "\n",
        "print('Extracting Train Dataset : Label 1')\n",
        "unpack_archive('train_1.zip', '')\n",
        "\n",
        "print('Extracting Train Dataset : Label 0')\n",
        "unpack_archive('train_0.zip', '')\n",
        "\n",
        "print('Extracting Test Dataset')\n",
        "unpack_archive('test.zip', '')\n",
        "\n",
        "print('Dataset Extracted')\n",
        "\n",
        "\n",
        "os.remove('train_1.zip')\n",
        "os.remove('train_0.zip')\n",
        "os.remove('test.zip')\n",
        "print('Extra Files Removed')"
      ]
    },
    {
      "cell_type": "code",
      "source": [],
      "metadata": {
        "id": "2EtZo600DpJt"
      },
      "execution_count": null,
      "outputs": []
    },
    {
      "cell_type": "markdown",
      "metadata": {
        "id": "7DOJdz_cYS23"
      },
      "source": [
        "## Data Description"
      ]
    },
    {
      "cell_type": "markdown",
      "metadata": {
        "id": "ErDxdcsoNNPx"
      },
      "source": [
        "Column | Description\n",
        ":---|:---\n",
        "`file` | Image name\n",
        "`label` | Target Label (1/0)"
      ]
    },
    {
      "cell_type": "code",
      "execution_count": null,
      "metadata": {
        "id": "SRLzBBNNNNPz"
      },
      "outputs": [],
      "source": [
        "# # The train label dataset is already loaded below\n",
        "# data = pd.read_csv(\"train_labels.csv\")"
      ]
    },
    {
      "cell_type": "code",
      "execution_count": null,
      "metadata": {
        "id": "61JhPEGiNNP4"
      },
      "outputs": [],
      "source": [
        "# data.head()"
      ]
    },
    {
      "cell_type": "code",
      "execution_count": null,
      "metadata": {
        "id": "ekzXg7HBNNQB",
        "colab": {
          "base_uri": "https://localhost:8080/"
        },
        "outputId": "5ada2d52-2422-44fd-ac62-f36844ffd73c"
      },
      "outputs": [
        {
          "output_type": "stream",
          "name": "stdout",
          "text": [
            "Data berlebel 0 2026\n",
            "Data berlebel 1 1989\n"
          ]
        }
      ],
      "source": [
        "train_0_label = os.listdir('/content/train/0')\n",
        "train_1_label = os.listdir('/content/train/1')\n",
        "\n",
        "print('Data berlebel 0', len(train_0_label))\n",
        "print('Data berlebel 1', len(train_1_label))"
      ]
    },
    {
      "cell_type": "code",
      "execution_count": null,
      "metadata": {
        "id": "uLAaDp6OYS27"
      },
      "outputs": [],
      "source": [
        "import tensorflow as tf\n",
        "from tensorflow.keras.preprocessing.image import ImageDataGenerator\n",
        "\n",
        "train_datagen = ImageDataGenerator(\n",
        "      rescale=1./255,\n",
        "      rotation_range=20,\n",
        "      height_shift_range=0.3,\n",
        "      zoom_range=0.3,\n",
        "      horizontal_flip=True,\n",
        "      validation_split=0.1,)"
      ]
    },
    {
      "cell_type": "code",
      "source": [
        "# Preprocess Data\n",
        "\n",
        "train_generator = train_datagen.flow_from_directory(\n",
        "    \"/content/train\",\n",
        "    target_size=(300,300),\n",
        "    batch_size = 32,\n",
        "    class_mode = \"binary\",\n",
        "    subset = \"training\"\n",
        ")\n",
        "\n",
        "val_generator = train_datagen.flow_from_directory(\n",
        "    \"/content/train\",\n",
        "    target_size=(300,300),\n",
        "    batch_size = 32,\n",
        "    class_mode = \"binary\",\n",
        "    subset = \"validation\"\n",
        ")"
      ],
      "metadata": {
        "id": "p3FBknbLLg4p",
        "colab": {
          "base_uri": "https://localhost:8080/"
        },
        "outputId": "80461f9a-04a8-4e81-ae60-88d25e3e3fa0"
      },
      "execution_count": null,
      "outputs": [
        {
          "output_type": "stream",
          "name": "stdout",
          "text": [
            "Found 3615 images belonging to 2 classes.\n",
            "Found 400 images belonging to 2 classes.\n"
          ]
        }
      ]
    },
    {
      "cell_type": "markdown",
      "metadata": {
        "id": "776AnflSNNQD"
      },
      "source": [
        "## Machine Learning\n",
        "\n",
        "Build a neural network that can classify the driver’s behaviour.\n",
        "- **The model's performance will be evaluated on the basis of accuracy.**"
      ]
    },
    {
      "cell_type": "code",
      "source": [
        "from keras.models import Sequential\n",
        "from keras.layers import Conv2D, MaxPooling2D, Dropout, Flatten, Dense, Activation, BatchNormalization\n",
        "\n",
        "model = Sequential()\n",
        "\n",
        "model.add(Conv2D(16, (5, 5), activation='relu', input_shape=(300, 300, 3)))\n",
        "model.add(BatchNormalization())\n",
        "model.add(MaxPooling2D(pool_size=(2, 2)))\n",
        "model.add(Dropout(0.25))\n",
        "\n",
        "model.add(Conv2D(32, (3, 3), activation='relu'))\n",
        "model.add(BatchNormalization())\n",
        "model.add(MaxPooling2D(pool_size=(2, 2)))\n",
        "model.add(Dropout(0.25))\n",
        "\n",
        "model.add(Conv2D(64, (3, 3), activation='relu'))\n",
        "model.add(BatchNormalization())\n",
        "model.add(MaxPooling2D(pool_size=(2, 2)))\n",
        "model.add(Dropout(0.25))\n",
        "\n",
        "model.add(Conv2D(128, (3, 3), activation='relu'))\n",
        "model.add(BatchNormalization())\n",
        "model.add(MaxPooling2D(pool_size=(2, 2)))\n",
        "model.add(Dropout(0.25))\n",
        "\n",
        "model.add(Conv2D(256, (3, 3), activation='relu'))\n",
        "model.add(BatchNormalization())\n",
        "model.add(MaxPooling2D(pool_size=(2, 2)))\n",
        "model.add(Dropout(0.25))\n",
        "\n",
        "model.add(Flatten())\n",
        "model.add(Dense(512, activation='relu'))\n",
        "model.add(BatchNormalization())\n",
        "model.add(Dense(128, activation='relu'))\n",
        "model.add(BatchNormalization())\n",
        "model.add(Dropout(0.25))\n",
        "model.add(Dense(1, activation='sigmoid')) \n",
        "\n",
        "model.compile(loss='binary_crossentropy', optimizer='rmsprop', metrics=['accuracy'])\n",
        "\n",
        "model.summary()"
      ],
      "metadata": {
        "colab": {
          "base_uri": "https://localhost:8080/"
        },
        "id": "chnr7D3n8pOw",
        "outputId": "022f4f91-a117-4c6b-b4fa-aaee367d36b2"
      },
      "execution_count": null,
      "outputs": [
        {
          "output_type": "stream",
          "name": "stdout",
          "text": [
            "Model: \"sequential\"\n",
            "_________________________________________________________________\n",
            " Layer (type)                Output Shape              Param #   \n",
            "=================================================================\n",
            " conv2d (Conv2D)             (None, 296, 296, 16)      1216      \n",
            "                                                                 \n",
            " batch_normalization (BatchN  (None, 296, 296, 16)     64        \n",
            " ormalization)                                                   \n",
            "                                                                 \n",
            " max_pooling2d (MaxPooling2D  (None, 148, 148, 16)     0         \n",
            " )                                                               \n",
            "                                                                 \n",
            " dropout (Dropout)           (None, 148, 148, 16)      0         \n",
            "                                                                 \n",
            " conv2d_1 (Conv2D)           (None, 146, 146, 32)      4640      \n",
            "                                                                 \n",
            " batch_normalization_1 (Batc  (None, 146, 146, 32)     128       \n",
            " hNormalization)                                                 \n",
            "                                                                 \n",
            " max_pooling2d_1 (MaxPooling  (None, 73, 73, 32)       0         \n",
            " 2D)                                                             \n",
            "                                                                 \n",
            " dropout_1 (Dropout)         (None, 73, 73, 32)        0         \n",
            "                                                                 \n",
            " conv2d_2 (Conv2D)           (None, 71, 71, 64)        18496     \n",
            "                                                                 \n",
            " batch_normalization_2 (Batc  (None, 71, 71, 64)       256       \n",
            " hNormalization)                                                 \n",
            "                                                                 \n",
            " max_pooling2d_2 (MaxPooling  (None, 35, 35, 64)       0         \n",
            " 2D)                                                             \n",
            "                                                                 \n",
            " dropout_2 (Dropout)         (None, 35, 35, 64)        0         \n",
            "                                                                 \n",
            " conv2d_3 (Conv2D)           (None, 33, 33, 128)       73856     \n",
            "                                                                 \n",
            " batch_normalization_3 (Batc  (None, 33, 33, 128)      512       \n",
            " hNormalization)                                                 \n",
            "                                                                 \n",
            " max_pooling2d_3 (MaxPooling  (None, 16, 16, 128)      0         \n",
            " 2D)                                                             \n",
            "                                                                 \n",
            " dropout_3 (Dropout)         (None, 16, 16, 128)       0         \n",
            "                                                                 \n",
            " conv2d_4 (Conv2D)           (None, 14, 14, 256)       295168    \n",
            "                                                                 \n",
            " batch_normalization_4 (Batc  (None, 14, 14, 256)      1024      \n",
            " hNormalization)                                                 \n",
            "                                                                 \n",
            " max_pooling2d_4 (MaxPooling  (None, 7, 7, 256)        0         \n",
            " 2D)                                                             \n",
            "                                                                 \n",
            " dropout_4 (Dropout)         (None, 7, 7, 256)         0         \n",
            "                                                                 \n",
            " flatten (Flatten)           (None, 12544)             0         \n",
            "                                                                 \n",
            " dense (Dense)               (None, 512)               6423040   \n",
            "                                                                 \n",
            " batch_normalization_5 (Batc  (None, 512)              2048      \n",
            " hNormalization)                                                 \n",
            "                                                                 \n",
            " dense_1 (Dense)             (None, 128)               65664     \n",
            "                                                                 \n",
            " batch_normalization_6 (Batc  (None, 128)              512       \n",
            " hNormalization)                                                 \n",
            "                                                                 \n",
            " dropout_5 (Dropout)         (None, 128)               0         \n",
            "                                                                 \n",
            " dense_2 (Dense)             (None, 1)                 129       \n",
            "                                                                 \n",
            "=================================================================\n",
            "Total params: 6,886,753\n",
            "Trainable params: 6,884,481\n",
            "Non-trainable params: 2,272\n",
            "_________________________________________________________________\n"
          ]
        }
      ]
    },
    {
      "cell_type": "code",
      "source": [
        "model.compile(optimizer=tf.keras.optimizers.RMSprop(lr=0.001), loss=\"binary_crossentropy\", metrics = [\"accuracy\"])"
      ],
      "metadata": {
        "colab": {
          "base_uri": "https://localhost:8080/"
        },
        "id": "2FC1b1zLc6TU",
        "outputId": "39f2611f-dc7f-49e5-ef54-aff29424e75b"
      },
      "execution_count": null,
      "outputs": [
        {
          "output_type": "stream",
          "name": "stderr",
          "text": [
            "/usr/local/lib/python3.7/dist-packages/keras/optimizer_v2/rmsprop.py:130: UserWarning: The `lr` argument is deprecated, use `learning_rate` instead.\n",
            "  super(RMSprop, self).__init__(name, **kwargs)\n"
          ]
        }
      ]
    },
    {
      "cell_type": "code",
      "source": [
        "# from keras.callbacks import EarlyStopping\n",
        "# early_stopping = EarlyStopping(min_delta = 0.001, mode = 'min', monitor='val_loss', patience = 7)\n",
        "# callbacks = [early_stopping]"
      ],
      "metadata": {
        "id": "JIkkdHd2kjJ2"
      },
      "execution_count": null,
      "outputs": []
    },
    {
      "cell_type": "code",
      "source": [
        "class mycallback(tf.keras.callbacks.Callback):\n",
        "  def on_epoch_end(self, epoch, logs={}):\n",
        "    if(logs.get('val_loss')<0.1):\n",
        "      self.model.stop_training = True\n",
        "callbacks = mycallback()"
      ],
      "metadata": {
        "id": "Gub4QS2XEKEn"
      },
      "execution_count": null,
      "outputs": []
    },
    {
      "cell_type": "code",
      "execution_count": null,
      "metadata": {
        "id": "mNMb2ZGCNNQT",
        "colab": {
          "base_uri": "https://localhost:8080/"
        },
        "outputId": "7c51572d-7494-4d3c-ef6d-95391e52db6f"
      },
      "outputs": [
        {
          "output_type": "stream",
          "name": "stdout",
          "text": [
            "Epoch 1/50\n",
            "113/113 [==============================] - 96s 796ms/step - loss: 0.7866 - accuracy: 0.5986 - val_loss: 1.2313 - val_accuracy: 0.5000\n",
            "Epoch 2/50\n",
            "113/113 [==============================] - 104s 922ms/step - loss: 0.6542 - accuracy: 0.6622 - val_loss: 1.2917 - val_accuracy: 0.4812\n",
            "Epoch 3/50\n",
            "113/113 [==============================] - 88s 781ms/step - loss: 0.5785 - accuracy: 0.7159 - val_loss: 0.6983 - val_accuracy: 0.5437\n",
            "Epoch 4/50\n",
            "113/113 [==============================] - 86s 764ms/step - loss: 0.4962 - accuracy: 0.7615 - val_loss: 0.8285 - val_accuracy: 0.5562\n",
            "Epoch 5/50\n",
            "113/113 [==============================] - 87s 773ms/step - loss: 0.4365 - accuracy: 0.7953 - val_loss: 0.8321 - val_accuracy: 0.6625\n",
            "Epoch 6/50\n",
            "113/113 [==============================] - 100s 890ms/step - loss: 0.4114 - accuracy: 0.8147 - val_loss: 1.2526 - val_accuracy: 0.5437\n",
            "Epoch 7/50\n",
            "113/113 [==============================] - 95s 843ms/step - loss: 0.3482 - accuracy: 0.8528 - val_loss: 0.8100 - val_accuracy: 0.6375\n",
            "Epoch 8/50\n",
            "113/113 [==============================] - 91s 800ms/step - loss: 0.3246 - accuracy: 0.8592 - val_loss: 0.6885 - val_accuracy: 0.7437\n",
            "Epoch 9/50\n",
            "113/113 [==============================] - 92s 813ms/step - loss: 0.2961 - accuracy: 0.8739 - val_loss: 0.5484 - val_accuracy: 0.8062\n",
            "Epoch 10/50\n",
            "113/113 [==============================] - 112s 991ms/step - loss: 0.2840 - accuracy: 0.8822 - val_loss: 0.4311 - val_accuracy: 0.8500\n",
            "Epoch 11/50\n",
            "113/113 [==============================] - 88s 774ms/step - loss: 0.2500 - accuracy: 0.9004 - val_loss: 1.8302 - val_accuracy: 0.6125\n",
            "Epoch 12/50\n",
            "113/113 [==============================] - 86s 760ms/step - loss: 0.2509 - accuracy: 0.9029 - val_loss: 0.3366 - val_accuracy: 0.8500\n",
            "Epoch 13/50\n",
            "113/113 [==============================] - 86s 758ms/step - loss: 0.2201 - accuracy: 0.9112 - val_loss: 0.4703 - val_accuracy: 0.7937\n",
            "Epoch 14/50\n",
            "113/113 [==============================] - 87s 765ms/step - loss: 0.2031 - accuracy: 0.9212 - val_loss: 0.3570 - val_accuracy: 0.8438\n",
            "Epoch 15/50\n",
            "113/113 [==============================] - 86s 759ms/step - loss: 0.2062 - accuracy: 0.9239 - val_loss: 0.5092 - val_accuracy: 0.8562\n",
            "Epoch 16/50\n",
            "113/113 [==============================] - 85s 756ms/step - loss: 0.1813 - accuracy: 0.9322 - val_loss: 0.3280 - val_accuracy: 0.8313\n",
            "Epoch 17/50\n",
            "113/113 [==============================] - 86s 763ms/step - loss: 0.1681 - accuracy: 0.9389 - val_loss: 0.3667 - val_accuracy: 0.8750\n",
            "Epoch 18/50\n",
            "113/113 [==============================] - 85s 755ms/step - loss: 0.1702 - accuracy: 0.9295 - val_loss: 0.1954 - val_accuracy: 0.9000\n",
            "Epoch 19/50\n",
            "113/113 [==============================] - 86s 757ms/step - loss: 0.1798 - accuracy: 0.9284 - val_loss: 0.5198 - val_accuracy: 0.8125\n",
            "Epoch 20/50\n",
            "113/113 [==============================] - 87s 769ms/step - loss: 0.1526 - accuracy: 0.9402 - val_loss: 0.1851 - val_accuracy: 0.9250\n",
            "Epoch 21/50\n",
            "113/113 [==============================] - 86s 761ms/step - loss: 0.1562 - accuracy: 0.9394 - val_loss: 0.2851 - val_accuracy: 0.8938\n",
            "Epoch 22/50\n",
            "113/113 [==============================] - 85s 753ms/step - loss: 0.1375 - accuracy: 0.9491 - val_loss: 0.2720 - val_accuracy: 0.8687\n",
            "Epoch 23/50\n",
            "113/113 [==============================] - 87s 770ms/step - loss: 0.1506 - accuracy: 0.9452 - val_loss: 0.3176 - val_accuracy: 0.8687\n",
            "Epoch 24/50\n",
            "113/113 [==============================] - 86s 757ms/step - loss: 0.1392 - accuracy: 0.9485 - val_loss: 0.1867 - val_accuracy: 0.9000\n",
            "Epoch 25/50\n",
            "113/113 [==============================] - 85s 753ms/step - loss: 0.1364 - accuracy: 0.9499 - val_loss: 0.1680 - val_accuracy: 0.9250\n",
            "Epoch 26/50\n",
            "113/113 [==============================] - 86s 764ms/step - loss: 0.1293 - accuracy: 0.9527 - val_loss: 0.1250 - val_accuracy: 0.9563\n",
            "Epoch 27/50\n",
            "113/113 [==============================] - 85s 751ms/step - loss: 0.1334 - accuracy: 0.9505 - val_loss: 0.1495 - val_accuracy: 0.9438\n",
            "Epoch 28/50\n",
            "113/113 [==============================] - 85s 749ms/step - loss: 0.1325 - accuracy: 0.9491 - val_loss: 0.2530 - val_accuracy: 0.9312\n",
            "Epoch 29/50\n",
            "113/113 [==============================] - 85s 748ms/step - loss: 0.1084 - accuracy: 0.9582 - val_loss: 0.2771 - val_accuracy: 0.9187\n",
            "Epoch 30/50\n",
            "113/113 [==============================] - 86s 764ms/step - loss: 0.1236 - accuracy: 0.9530 - val_loss: 0.2197 - val_accuracy: 0.8938\n",
            "Epoch 31/50\n",
            "113/113 [==============================] - 85s 752ms/step - loss: 0.1025 - accuracy: 0.9629 - val_loss: 0.1706 - val_accuracy: 0.9125\n",
            "Epoch 32/50\n",
            "113/113 [==============================] - 85s 750ms/step - loss: 0.1038 - accuracy: 0.9624 - val_loss: 0.5793 - val_accuracy: 0.8687\n",
            "Epoch 33/50\n",
            "113/113 [==============================] - 86s 763ms/step - loss: 0.1124 - accuracy: 0.9585 - val_loss: 0.1063 - val_accuracy: 0.9500\n",
            "Epoch 34/50\n",
            "113/113 [==============================] - 85s 752ms/step - loss: 0.1137 - accuracy: 0.9621 - val_loss: 0.1529 - val_accuracy: 0.9625\n",
            "Epoch 35/50\n",
            "113/113 [==============================] - 85s 754ms/step - loss: 0.0954 - accuracy: 0.9674 - val_loss: 0.0669 - val_accuracy: 0.9688\n"
          ]
        }
      ],
      "source": [
        "# Fit model\n",
        "\n",
        "history = model.fit(\n",
        "    train_generator,\n",
        "    epochs=50,\n",
        "    validation_data=val_generator,\n",
        "    validation_steps=5,\n",
        "    callbacks=[callbacks]\n",
        "    )"
      ]
    },
    {
      "cell_type": "markdown",
      "source": [],
      "metadata": {
        "id": "oj6cO_IBPxJQ"
      }
    },
    {
      "cell_type": "code",
      "execution_count": null,
      "metadata": {
        "id": "6UCGui6nNNQV",
        "colab": {
          "base_uri": "https://localhost:8080/",
          "height": 545
        },
        "outputId": "eaa49e1a-0ee4-4e8d-b06d-c4e4b92c2051"
      },
      "outputs": [
        {
          "output_type": "display_data",
          "data": {
            "text/plain": [
              "<Figure size 432x288 with 1 Axes>"
            ],
            "image/png": "[encoded data removed]"
          },
          "metadata": {
            "needs_background": "light"
          }
        },
        {
          "output_type": "display_data",
          "data": {
            "text/plain": [
              "<Figure size 432x288 with 1 Axes>"
            ],
            "image/png": "[encoded data removed]"
          },
          "metadata": {
            "needs_background": "light"
          }
        }
      ],
      "source": [
        "import matplotlib.pyplot as plt\n",
        "acc = history.history['accuracy']\n",
        "val_acc = history.history['val_accuracy']\n",
        "loss = history.history['loss']\n",
        "val_loss = history.history['val_loss']\n",
        "\n",
        "epochs = range(len(acc))\n",
        "\n",
        "plt.plot(epochs, acc, 'r', label='Training accuracy')\n",
        "plt.plot(epochs, val_acc, 'b', label='Validation accuracy')\n",
        "plt.title('Training and validation accuracy')\n",
        "plt.legend()\n",
        "\n",
        "plt.figure()\n",
        "\n",
        "plt.plot(epochs, loss, 'r', label='Training Loss')\n",
        "plt.plot(epochs, val_loss, 'b', label='Validation Loss')\n",
        "plt.title('Training and validation loss')\n",
        "plt.legend()\n",
        "\n",
        "plt.show()"
      ]
    },
    {
      "cell_type": "markdown",
      "metadata": {
        "id": "Cqv9hOnfNNQZ"
      },
      "source": [
        "> #### Task:\n",
        "- **Submit the predictions on the test dataset using your optimized model** <br/>\n",
        "    For each image in the test folder, predict the value of the label (0/1). You should submit a CSV file with a header row and one row per test entry. \n",
        "\n",
        "The file (`submissions.csv`) should have exactly 2 columns:\n",
        "   - **file**\n",
        "   - **label**\n",
        "   "
      ]
    },
    {
      "cell_type": "code",
      "execution_count": null,
      "metadata": {
        "id": "C2FpSVKqNNQa"
      },
      "outputs": [],
      "source": [
        "import numpy as np\n",
        "from keras.preprocessing import image\n",
        "\n",
        "def test_image (im):\n",
        "  path = '/content/test/' + im\n",
        "  img = image.load_img(path, target_size=(300, 300))\n",
        "  x = image.img_to_array(img)\n",
        "  x = x / 255\n",
        "  x = np.expand_dims(x, axis=0)\n",
        "  images = np.vstack([x])\n",
        "  classes = model.predict(images, batch_size=1)\n",
        "  return round(classes[0][0])"
      ]
    },
    {
      "cell_type": "code",
      "source": [
        "test_data = os.listdir('/content/test/')"
      ],
      "metadata": {
        "id": "SWitkeApNm1W"
      },
      "execution_count": null,
      "outputs": []
    },
    {
      "cell_type": "code",
      "source": [
        "len(test_data)"
      ],
      "metadata": {
        "colab": {
          "base_uri": "https://localhost:8080/"
        },
        "id": "I6VffzSdgZ1Y",
        "outputId": "1cce2f0a-84cb-4101-b2fb-a0f1fac195e0"
      },
      "execution_count": null,
      "outputs": [
        {
          "output_type": "execute_result",
          "data": {
            "text/plain": [
              "1401"
            ]
          },
          "metadata": {},
          "execution_count": 33
        }
      ]
    },
    {
      "cell_type": "code",
      "source": [
        "new_test_data = []\n",
        "for i in test_data:\n",
        "  if 'jpg' in i:\n",
        "    new_test_data.append(i)"
      ],
      "metadata": {
        "id": "fGtX1sZ2gGs3"
      },
      "execution_count": null,
      "outputs": []
    },
    {
      "cell_type": "code",
      "source": [
        "len(new_test_data)"
      ],
      "metadata": {
        "colab": {
          "base_uri": "https://localhost:8080/"
        },
        "id": "JoPd8KTQgibh",
        "outputId": "a9c1736a-3f54-4fed-bf7a-15c69256de67"
      },
      "execution_count": null,
      "outputs": [
        {
          "output_type": "execute_result",
          "data": {
            "text/plain": [
              "1400"
            ]
          },
          "metadata": {},
          "execution_count": 36
        }
      ]
    },
    {
      "cell_type": "code",
      "source": [
        "label = []\n",
        "for i in new_test_data: \n",
        "    label.append(test_image(i))"
      ],
      "metadata": {
        "id": "Dv_X-ndB4vmb"
      },
      "execution_count": null,
      "outputs": []
    },
    {
      "cell_type": "code",
      "source": [
        "import pandas as pd\n",
        "\n",
        "result = {'File':new_test_data,'Label':label}\n",
        "submission_df = pd.DataFrame(result)\n",
        "\n",
        "submission_df.head()"
      ],
      "metadata": {
        "colab": {
          "base_uri": "https://localhost:8080/",
          "height": 206
        },
        "id": "SSIzkcuq4vZe",
        "outputId": "60b773ff-6ecc-4afa-e758-86d6b0ecf036"
      },
      "execution_count": null,
      "outputs": [
        {
          "output_type": "execute_result",
          "data": {
            "text/plain": [
              "            File  Label\n",
              "0  img_64030.jpg      1\n",
              "1  img_60142.jpg      0\n",
              "2  img_11658.jpg      1\n",
              "3  img_49198.jpg      0\n",
              "4  img_12773.jpg      0"
            ],
            "text/html": [
              "\n",
              "  <div id=\"df-1fd40376-3720-4483-aeb1-86414fb050d9\">\n",
              "    <div class=\"colab-df-container\">\n",
              "      <div>\n",
              "<style scoped>\n",
              "    .dataframe tbody tr th:only-of-type {\n",
              "        vertical-align: middle;\n",
              "    }\n",
              "\n",
              "    .dataframe tbody tr th {\n",
              "        vertical-align: top;\n",
              "    }\n",
              "\n",
              "    .dataframe thead th {\n",
              "        text-align: right;\n",
              "    }\n",
              "</style>\n",
              "<table border=\"1\" class=\"dataframe\">\n",
              "  <thead>\n",
              "    <tr style=\"text-align: right;\">\n",
              "      <th></th>\n",
              "      <th>File</th>\n",
              "      <th>Label</th>\n",
              "    </tr>\n",
              "  </thead>\n",
              "  <tbody>\n",
              "    <tr>\n",
              "      <th>0</th>\n",
              "      <td>img_64030.jpg</td>\n",
              "      <td>1</td>\n",
              "    </tr>\n",
              "    <tr>\n",
              "      <th>1</th>\n",
              "      <td>img_60142.jpg</td>\n",
              "      <td>0</td>\n",
              "    </tr>\n",
              "    <tr>\n",
              "      <th>2</th>\n",
              "      <td>img_11658.jpg</td>\n",
              "      <td>1</td>\n",
              "    </tr>\n",
              "    <tr>\n",
              "      <th>3</th>\n",
              "      <td>img_49198.jpg</td>\n",
              "      <td>0</td>\n",
              "    </tr>\n",
              "    <tr>\n",
              "      <th>4</th>\n",
              "      <td>img_12773.jpg</td>\n",
              "      <td>0</td>\n",
              "    </tr>\n",
              "  </tbody>\n",
              "</table>\n",
              "</div>\n",
              "      <button class=\"colab-df-convert\" onclick=\"convertToInteractive('df-1fd40376-3720-4483-aeb1-86414fb050d9')\"\n",
              "              title=\"Convert this dataframe to an interactive table.\"\n",
              "              style=\"display:none;\">\n",
              "        \n",
              "  <svg xmlns=\"http://www.w3.org/2000/svg\" height=\"24px\"viewBox=\"0 0 24 24\"\n",
              "       width=\"24px\">\n",
              "    <path d=\"M0 0h24v24H0V0z\" fill=\"none\"/>\n",
              "    <path d=\"M18.56 5.44l.94 2.06.94-2.06 2.06-.94-2.06-.94-.94-2.06-.94 2.06-2.06.94zm-11 1L8.5 8.5l.94-2.06 2.06-.94-2.06-.94L8.5 2.5l-.94 2.06-2.06.94zm10 10l.94 2.06.94-2.06 2.06-.94-2.06-.94-.94-2.06-.94 2.06-2.06.94z\"/><path d=\"M17.41 7.96l-1.37-1.37c-.4-.4-.92-.59-1.43-.59-.52 0-1.04.2-1.43.59L10.3 9.45l-7.72 7.72c-.78.78-.78 2.05 0 2.83L4 21.41c.39.39.9.59 1.41.59.51 0 1.02-.2 1.41-.59l7.78-7.78 2.81-2.81c.8-.78.8-2.07 0-2.86zM5.41 20L4 18.59l7.72-7.72 1.47 1.35L5.41 20z\"/>\n",
              "  </svg>\n",
              "      </button>\n",
              "      \n",
              "  <style>\n",
              "    .colab-df-container {\n",
              "      display:flex;\n",
              "      flex-wrap:wrap;\n",
              "      gap: 12px;\n",
              "    }\n",
              "\n",
              "    .colab-df-convert {\n",
              "      background-color: #E8F0FE;\n",
              "      border: none;\n",
              "      border-radius: 50%;\n",
              "      cursor: pointer;\n",
              "      display: none;\n",
              "      fill: #1967D2;\n",
              "      height: 32px;\n",
              "      padding: 0 0 0 0;\n",
              "      width: 32px;\n",
              "    }\n",
              "\n",
              "    .colab-df-convert:hover {\n",
              "      background-color: #E2EBFA;\n",
              "      box-shadow: 0px 1px 2px rgba(60, 64, 67, 0.3), 0px 1px 3px 1px rgba(60, 64, 67, 0.15);\n",
              "      fill: #174EA6;\n",
              "    }\n",
              "\n",
              "    [theme=dark] .colab-df-convert {\n",
              "      background-color: #3B4455;\n",
              "      fill: #D2E3FC;\n",
              "    }\n",
              "\n",
              "    [theme=dark] .colab-df-convert:hover {\n",
              "      background-color: #434B5C;\n",
              "      box-shadow: 0px 1px 3px 1px rgba(0, 0, 0, 0.15);\n",
              "      filter: drop-shadow(0px 1px 2px rgba(0, 0, 0, 0.3));\n",
              "      fill: #FFFFFF;\n",
              "    }\n",
              "  </style>\n",
              "\n",
              "      <script>\n",
              "        const buttonEl =\n",
              "          document.querySelector('#df-1fd40376-3720-4483-aeb1-86414fb050d9 button.colab-df-convert');\n",
              "        buttonEl.style.display =\n",
              "          google.colab.kernel.accessAllowed ? 'block' : 'none';\n",
              "\n",
              "        async function convertToInteractive(key) {\n",
              "          const element = document.querySelector('#df-1fd40376-3720-4483-aeb1-86414fb050d9');\n",
              "          const dataTable =\n",
              "            await google.colab.kernel.invokeFunction('convertToInteractive',\n",
              "                                                     [key], {});\n",
              "          if (!dataTable) return;\n",
              "\n",
              "          const docLinkHtml = 'Like what you see? Visit the ' +\n",
              "            '<a target=\"_blank\" href=https://colab.research.google.com/notebooks/data_table.ipynb>data table notebook</a>'\n",
              "            + ' to learn more about interactive tables.';\n",
              "          element.innerHTML = '';\n",
              "          dataTable['output_type'] = 'display_data';\n",
              "          await google.colab.output.renderOutput(dataTable, element);\n",
              "          const docLink = document.createElement('div');\n",
              "          docLink.innerHTML = docLinkHtml;\n",
              "          element.appendChild(docLink);\n",
              "        }\n",
              "      </script>\n",
              "    </div>\n",
              "  </div>\n",
              "  "
            ]
          },
          "metadata": {},
          "execution_count": 39
        }
      ]
    },
    {
      "cell_type": "code",
      "execution_count": null,
      "metadata": {
        "id": "7K2uCUWhNNQj"
      },
      "outputs": [],
      "source": [
        "#Submission\n",
        "# submission_df.to_csv('submissions.csv',index=False)\n",
        "submission_df.to_csv('152236035101-664.csv',index=False)"
      ]
    }
  ],
  "metadata": {
    "colab": {
      "provenance": [],
      "include_colab_link": true
    },
    "kernelspec": {
      "display_name": "Python 3",
      "language": "python",
      "name": "python3"
    },
    "language_info": {
      "codemirror_mode": {
        "name": "ipython",
        "version": 3
      },
      "file_extension": ".py",
      "mimetype": "text/x-python",
      "name": "python",
      "nbconvert_exporter": "python",
      "pygments_lexer": "ipython3",
      "version": "3.7.8"
    },
    "gpuClass": "standard"
  },
  "nbformat": 4,
  "nbformat_minor": 0
}