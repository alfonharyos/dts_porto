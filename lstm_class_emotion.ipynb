{
  "cells": [
    {
      "cell_type": "markdown",
      "metadata": {
        "id": "view-in-github",
        "colab_type": "text"
      },
      "source": [
        "<a href=\"https://colab.research.google.com/github/alfonharyos/dts_porto/blob/main/lstm_class_emotion.ipynb\" target=\"_parent\"><img src=\"https://colab.research.google.com/assets/colab-badge.svg\" alt=\"Open In Colab\"/></a>"
      ]
    },
    {
      "cell_type": "code",
      "execution_count": null,
      "metadata": {
        "colab": {
          "base_uri": "https://localhost:8080/"
        },
        "id": "S5tbyjXjQ2FQ",
        "outputId": "6b4a9b09-6af7-4d9d-8fb1-b4d0c12b323e"
      },
      "outputs": [
        {
          "output_type": "stream",
          "name": "stdout",
          "text": [
            "Mounted at /content/drive\n"
          ]
        }
      ],
      "source": [
        "from google.colab import drive\n",
        "drive.mount('/content/drive')"
      ]
    },
    {
      "cell_type": "code",
      "execution_count": null,
      "metadata": {
        "id": "t68PiZcNQpq0"
      },
      "outputs": [],
      "source": [
        "import re\n",
        "import string\n",
        "import numpy as np\n",
        "import pandas as pd\n",
        "import matplotlib.pyplot as plt\n",
        "\n",
        "from sklearn.preprocessing import LabelEncoder\n",
        "from sklearn.model_selection import train_test_split\n",
        "\n",
        "import tensorflow as tf\n",
        "from tensorflow.keras.utils import to_categorical\n",
        "from tensorflow.keras.preprocessing.text import Tokenizer\n",
        "from tensorflow.keras.preprocessing.sequence import pad_sequences\n",
        "\n",
        "from tensorflow.keras.optimizers import Adam\n",
        "from tensorflow.keras.models import Sequential\n",
        "from tensorflow.keras.callbacks import EarlyStopping\n",
        "from tensorflow.keras.layers import Dense, LSTM, Embedding, Bidirectional, Dropout\n",
        "\n",
        "from tensorflow.keras.models import load_model"
      ]
    },
    {
      "cell_type": "code",
      "execution_count": null,
      "metadata": {
        "id": "8D27h1V5Qpq5"
      },
      "outputs": [],
      "source": [
        "# Text preprocessing function\n",
        "str_punc = string.punctuation.replace(',', '').replace(\"'\",'')\n",
        "\n",
        "def clean(text):\n",
        "    global str_punc\n",
        "    text = re.sub(r'[^a-zA-Z ]', '', text)\n",
        "    text = text.lower()\n",
        "    return text    "
      ]
    },
    {
      "cell_type": "code",
      "execution_count": null,
      "metadata": {
        "id": "orwQDQnyQpq7"
      },
      "outputs": [],
      "source": [
        "# Read dataset & Preprocess text\n",
        "df_train = pd.read_csv('/content/drive/MyDrive/DTS/Proa_ML_tensor/Assignment_nlp/train.txt', names=['Text', 'Emotion'], sep=';')\n",
        "df_val = pd.read_csv('/content/drive/MyDrive/DTS/Proa_ML_tensor/Assignment_nlp/val.txt', names=['Text', 'Emotion'], sep=';')\n",
        "df_test = pd.read_csv('/content/drive/MyDrive/DTS/Proa_ML_tensor/Assignment_nlp/test.txt', names=['Text', 'Emotion'], sep=';')\n",
        "\n",
        "X_train = df_train['Text'].apply(clean)\n",
        "y_train = df_train['Emotion']\n",
        "\n",
        "X_test = df_test['Text'].apply(clean)\n",
        "y_test = df_test['Emotion']\n",
        "\n",
        "X_val = df_val['Text'].apply(clean)\n",
        "y_val = df_val['Emotion']"
      ]
    },
    {
      "cell_type": "code",
      "source": [
        "df_train['Emotion'].value_counts()"
      ],
      "metadata": {
        "colab": {
          "base_uri": "https://localhost:8080/"
        },
        "id": "Z29x4KU_J342",
        "outputId": "26f1a9ce-c3ae-4530-a78d-f342ed51236d"
      },
      "execution_count": null,
      "outputs": [
        {
          "output_type": "execute_result",
          "data": {
            "text/plain": [
              "joy         5362\n",
              "sadness     4666\n",
              "anger       2159\n",
              "fear        1937\n",
              "love        1304\n",
              "surprise     572\n",
              "Name: Emotion, dtype: int64"
            ]
          },
          "metadata": {},
          "execution_count": 5
        }
      ]
    },
    {
      "cell_type": "code",
      "execution_count": null,
      "metadata": {
        "colab": {
          "base_uri": "https://localhost:8080/",
          "height": 809
        },
        "id": "_OFClA3aQpq9",
        "outputId": "03f4fc51-dccd-4939-fa20-aebe29b28052"
      },
      "outputs": [
        {
          "output_type": "display_data",
          "data": {
            "text/plain": [
              "<Figure size 432x288 with 1 Axes>"
            ],
            "image/png": "[encoded data removed]"
          },
          "metadata": {
            "needs_background": "light"
          }
        },
        {
          "output_type": "display_data",
          "data": {
            "text/plain": [
              "<Figure size 432x288 with 1 Axes>"
            ],
            "image/png": "[encoded data removed]"
          },
          "metadata": {
            "needs_background": "light"
          }
        },
        {
          "output_type": "display_data",
          "data": {
            "text/plain": [
              "<Figure size 432x288 with 1 Axes>"
            ],
            "image/png": "[encoded data removed]"
          },
          "metadata": {
            "needs_background": "light"
          }
        }
      ],
      "source": [
        "# Visualize classes counts\n",
        "colors = np.array([\"gray\", 'orangered', 'hotpink', 'gold', 'teal', 'cornflowerblue'])\n",
        "\n",
        "height_train = y_train.value_counts().tolist()\n",
        "bars_train = pd.DataFrame(y_train.value_counts()).index.tolist()\n",
        "plt.bar(bars_train, height_train, color=colors)\n",
        "plt.title(\"Training data - classes counts\")\n",
        "plt.show()\n",
        "\n",
        "height_test = y_test.value_counts().tolist()\n",
        "bars_test = pd.DataFrame(y_val.value_counts()).index.tolist()\n",
        "plt.bar(bars_test, height_test, color=colors)\n",
        "plt.title(\"Testing data - classes counts\")\n",
        "plt.show()\n",
        "\n",
        "height_val = y_val.value_counts().tolist()\n",
        "bars_val = pd.DataFrame(y_test.value_counts()).index.tolist()\n",
        "plt.bar(bars_val, height_val, color=colors)\n",
        "plt.title(\"Validation data - classes counts\")\n",
        "plt.show()"
      ]
    },
    {
      "cell_type": "code",
      "execution_count": null,
      "metadata": {
        "colab": {
          "base_uri": "https://localhost:8080/"
        },
        "id": "V9F2tWMGQpq_",
        "outputId": "9e3b523e-3c03-4c71-bfb1-d54bdfd35f7c"
      },
      "outputs": [
        {
          "output_type": "execute_result",
          "data": {
            "text/plain": [
              "['anger', 'fear', 'joy', 'love', 'sadness', 'surprise']"
            ]
          },
          "metadata": {},
          "execution_count": 13
        }
      ],
      "source": [
        "# Encode labels\n",
        "# Sudah disediakan beberapa variable, lengkapi variabel tersebut\n",
        "from keras.utils.np_utils import to_categorical\n",
        "le = LabelEncoder()\n",
        "\n",
        "y_train_le = le.fit_transform(y_train)\n",
        "y_test_le  = le.fit_transform(y_test)\n",
        "y_val_le  = le.fit_transform(y_val)\n",
        "\n",
        "y_train_cat  = to_categorical(y_train_le)\n",
        "y_test_cat  = to_categorical(y_test_le)\n",
        "y_val_cat  = to_categorical(y_val_le)\n",
        "\n",
        "list(le.classes_)"
      ]
    },
    {
      "cell_type": "code",
      "execution_count": null,
      "metadata": {
        "colab": {
          "base_uri": "https://localhost:8080/"
        },
        "id": "d40kAQnHQprC",
        "outputId": "fc25c7e8-2378-404c-c542-989948e7fdff"
      },
      "outputs": [
        {
          "output_type": "stream",
          "name": "stdout",
          "text": [
            "Vocabulary size = 16185\n"
          ]
        }
      ],
      "source": [
        "# Tokenize words\n",
        "tokenizer = Tokenizer()\n",
        "tokenizer.fit_on_texts(pd.concat([X_train, X_test], axis=0))\n",
        "\n",
        "sequences_train = tokenizer.texts_to_sequences(X_train)\n",
        "sequences_test = tokenizer.texts_to_sequences(X_test)\n",
        "sequences_val = tokenizer.texts_to_sequences(X_val)\n",
        "\n",
        "X_train = pad_sequences(sequences_train, maxlen=256, truncating='pre')\n",
        "X_test = pad_sequences(sequences_test, maxlen=256, truncating='pre')\n",
        "X_val = pad_sequences(sequences_val, maxlen=256, truncating='pre')\n",
        "\n",
        "vocabSize = len(tokenizer.index_word) + 1\n",
        "print(f\"Vocabulary size = {vocabSize}\")"
      ]
    },
    {
      "cell_type": "code",
      "execution_count": null,
      "metadata": {
        "colab": {
          "base_uri": "https://localhost:8080/"
        },
        "id": "e67R2xDlQprD",
        "outputId": "182d3638-b176-4f79-c661-d62023fbb3a2"
      },
      "outputs": [
        {
          "output_type": "stream",
          "name": "stdout",
          "text": [
            "Found 400000 word vectors.\n",
            "Converted 15069 words (1115 misses)\n"
          ]
        }
      ],
      "source": [
        "# Read GloVE embeddings\n",
        "path_to_glove_file = '/content/drive/MyDrive/DTS/Proa_ML_tensor/Assignment_nlp/glove.6B.300d.txt'\n",
        "num_tokens = vocabSize\n",
        "embedding_dim = 300\n",
        "hits = 0\n",
        "misses = 0\n",
        "embeddings_index = {}\n",
        "\n",
        "# Read word vectors\n",
        "with open(path_to_glove_file) as f:\n",
        "    for line in f:\n",
        "        word, coefs = line.split(maxsplit=1)\n",
        "        coefs = np.fromstring(coefs, \"f\", sep=\" \")\n",
        "        embeddings_index[word] = coefs\n",
        "print(\"Found %s word vectors.\" % len(embeddings_index))\n",
        "\n",
        "\n",
        "# Assign word vectors to our dictionary/vocabulary\n",
        "embedding_matrix = np.zeros((num_tokens, embedding_dim))\n",
        "for word, i in tokenizer.word_index.items():\n",
        "    embedding_vector = embeddings_index.get(word)\n",
        "    if embedding_vector is not None:\n",
        "        # Words not found in embedding index will be all-zeros.\n",
        "        # This includes the representation for \"padding\" and \"OOV\"\n",
        "        embedding_matrix[i] = embedding_vector\n",
        "        hits += 1\n",
        "    else:\n",
        "        misses += 1\n",
        "print(\"Converted %d words (%d misses)\" % (hits, misses))"
      ]
    },
    {
      "cell_type": "code",
      "execution_count": null,
      "metadata": {
        "id": "wSJWnBz2QprE"
      },
      "outputs": [],
      "source": [
        "# metrics f1-score\n",
        "from keras import backend as K\n",
        "\n",
        "def f1 (y_true, y_pred):\n",
        "  def recall(y_true, y_pred):\n",
        "      true_positives = K.sum(K.round(K.clip(y_true * y_pred, 0, 1)))\n",
        "      possible_positives = K.sum(K.round(K.clip(y_true, 0, 1)))\n",
        "      recall = true_positives / (possible_positives + K.epsilon())\n",
        "      return recall\n",
        "\n",
        "  def precision(y_true, y_pred):\n",
        "      true_positives = K.sum(K.round(K.clip(y_true * y_pred, 0, 1)))\n",
        "      predicted_positives = K.sum(K.round(K.clip(y_pred, 0, 1)))\n",
        "      precision = true_positives / (predicted_positives + K.epsilon())\n",
        "      return precision\n",
        "\n",
        "  precision = precision(y_true, y_pred)\n",
        "  recall = recall(y_true, y_pred)\n",
        "  return 2*((precision*recall)/(precision+recall+K.epsilon()))\n",
        "\n",
        "\n",
        "# Build neural network architecture\n",
        "def model_lstm(unit_1,unit_2,unit_3,unit_4,dropout_rate=0.4):\n",
        "  model = Sequential()\n",
        "  model.add(Embedding(num_tokens, embedding_dim, input_length=256))\n",
        "  model.add(Bidirectional(LSTM(unit_1, dropout=dropout_rate, recurrent_dropout=0, activation='tanh', recurrent_activation='sigmoid', unroll=False, use_bias=True, return_sequences=True)))\n",
        "  model.add(Bidirectional(LSTM(unit_2, dropout=dropout_rate, recurrent_dropout=0, activation='tanh', recurrent_activation='sigmoid', unroll=False, use_bias=True, return_sequences=True)))\n",
        "  model.add(Bidirectional(LSTM(unit_3, dropout=dropout_rate, recurrent_dropout=0, activation='tanh', recurrent_activation='sigmoid', unroll=False, use_bias=True)))\n",
        "  model.add(Dense(unit_4, activation='relu'))\n",
        "  model.add(Dropout(dropout_rate))\n",
        "  model.add(Dense(6, activation='sigmoid'))\n",
        "\n",
        "  model.compile(loss='categorical_crossentropy', optimizer=Adam(learning_rate=1e-3), metrics=['accuracy',f1])\n",
        "  return model"
      ]
    },
    {
      "cell_type": "code",
      "execution_count": null,
      "metadata": {
        "id": "hRze0UkW35fh"
      },
      "outputs": [],
      "source": [
        "from sklearn.model_selection import ParameterSampler\n",
        "\n",
        "units = [64, 128, 256]\n",
        "\n",
        "param_grid = dict(unit_1=units, \n",
        "                  unit_2=units, \n",
        "                  unit_3=units, \n",
        "                  unit_4=units, \n",
        "                  )\n",
        "\n",
        "rng = np.random.RandomState(0)\n",
        "param_list = list(ParameterSampler(param_grid, n_iter=5, \n",
        "                                   random_state=rng))"
      ]
    },
    {
      "cell_type": "code",
      "execution_count": null,
      "metadata": {
        "id": "GAqjeTvohzLw"
      },
      "outputs": [],
      "source": [
        "def run_grid():  \n",
        "  df_all_grid = pd.DataFrame()\n",
        "  best_score = 0\n",
        "  i=1\n",
        "  for g in param_list:\n",
        "    print('------------------------------------------------------------------')\n",
        "    print('Iter - '+str(i))\n",
        "    print(g)\n",
        "    model = model_lstm(**g)\n",
        "    history = model.fit(X_train, y_train_cat, \n",
        "                        validation_data=(X_val, y_val_cat), \n",
        "                        batch_size=32,\n",
        "                        epochs=5,\n",
        "                        verbose=1)\n",
        "    \n",
        "    # save all metric results (list)\n",
        "    dict = {'Param':g, 'history':history.history}\n",
        "    df_all_grid = df_all_grid.append(dict, ignore_index = True)\n",
        "\n",
        "    # save best score\n",
        "    new_score = max(history.history['val_f1'])\n",
        "    if new_score > best_score:\n",
        "        model.save('/content/drive/MyDrive/DTS/Proa_ML_tensor/Assignment_nlp/emotion_model.h5')\n",
        "        best_score = new_score\n",
        "        best_grid = [i]+[g]\n",
        "    i+=1\n",
        "  print ('-------------------------------------------------------')\n",
        "  print (\"f1_score: %0.5f\" % best_score) \n",
        "  print (\"Grid:\", best_grid)\n",
        "  return best_grid, df_all_grid"
      ]
    },
    {
      "cell_type": "code",
      "execution_count": null,
      "metadata": {
        "colab": {
          "base_uri": "https://localhost:8080/"
        },
        "id": "MeyPYkTw7_3O",
        "outputId": "830b7a3a-b607-40c3-8244-e7b2f2784cf9"
      },
      "outputs": [
        {
          "output_type": "stream",
          "name": "stdout",
          "text": [
            "------------------------------------------------------------------\n",
            "Iter - 1\n",
            "{'unit_4': 128, 'unit_3': 128, 'unit_2': 256, 'unit_1': 64}\n",
            "Epoch 1/5\n",
            "500/500 [==============================] - 52s 87ms/step - loss: 1.0745 - accuracy: 0.5931 - f1: 0.4826 - val_loss: 0.5099 - val_accuracy: 0.8200 - val_f1: 0.5854\n",
            "Epoch 2/5\n",
            "500/500 [==============================] - 42s 84ms/step - loss: 0.3391 - accuracy: 0.8891 - f1: 0.6421 - val_loss: 0.2246 - val_accuracy: 0.9190 - val_f1: 0.6935\n",
            "Epoch 3/5\n",
            "500/500 [==============================] - 41s 83ms/step - loss: 0.1735 - accuracy: 0.9404 - f1: 0.7330 - val_loss: 0.2078 - val_accuracy: 0.9230 - val_f1: 0.7582\n",
            "Epoch 4/5\n",
            "500/500 [==============================] - 42s 85ms/step - loss: 0.1228 - accuracy: 0.9559 - f1: 0.7536 - val_loss: 0.1951 - val_accuracy: 0.9245 - val_f1: 0.7779\n",
            "Epoch 5/5\n",
            "500/500 [==============================] - 41s 83ms/step - loss: 0.0942 - accuracy: 0.9644 - f1: 0.7828 - val_loss: 0.2029 - val_accuracy: 0.9325 - val_f1: 0.8269\n",
            "------------------------------------------------------------------\n",
            "Iter - 2\n",
            "{'unit_4': 64, 'unit_3': 64, 'unit_2': 64, 'unit_1': 128}\n",
            "Epoch 1/5\n",
            "500/500 [==============================] - 44s 74ms/step - loss: 1.1579 - accuracy: 0.5468 - f1: 0.4356 - val_loss: 0.4846 - val_accuracy: 0.8320 - val_f1: 0.5197\n",
            "Epoch 2/5\n",
            "500/500 [==============================] - 35s 69ms/step - loss: 0.3588 - accuracy: 0.8857 - f1: 0.5348 - val_loss: 0.2431 - val_accuracy: 0.9215 - val_f1: 0.5434\n",
            "Epoch 3/5\n",
            "500/500 [==============================] - 35s 69ms/step - loss: 0.1904 - accuracy: 0.9345 - f1: 0.5671 - val_loss: 0.2285 - val_accuracy: 0.9180 - val_f1: 0.5493\n",
            "Epoch 4/5\n",
            "500/500 [==============================] - 35s 69ms/step - loss: 0.1367 - accuracy: 0.9521 - f1: 0.5859 - val_loss: 0.1699 - val_accuracy: 0.9365 - val_f1: 0.6192\n",
            "Epoch 5/5\n",
            "500/500 [==============================] - 35s 70ms/step - loss: 0.1007 - accuracy: 0.9638 - f1: 0.6239 - val_loss: 0.2267 - val_accuracy: 0.9250 - val_f1: 0.6616\n",
            "------------------------------------------------------------------\n",
            "Iter - 3\n",
            "{'unit_4': 128, 'unit_3': 256, 'unit_2': 64, 'unit_1': 256}\n",
            "Epoch 1/5\n",
            "500/500 [==============================] - 55s 95ms/step - loss: 1.0172 - accuracy: 0.6232 - f1: 0.4847 - val_loss: 0.3659 - val_accuracy: 0.8720 - val_f1: 0.6290\n",
            "Epoch 2/5\n",
            "500/500 [==============================] - 45s 90ms/step - loss: 0.2664 - accuracy: 0.9112 - f1: 0.6548 - val_loss: 0.2306 - val_accuracy: 0.9240 - val_f1: 0.7011\n",
            "Epoch 3/5\n",
            "500/500 [==============================] - 45s 90ms/step - loss: 0.1532 - accuracy: 0.9438 - f1: 0.7067 - val_loss: 0.2024 - val_accuracy: 0.9240 - val_f1: 0.6925\n",
            "Epoch 4/5\n",
            "500/500 [==============================] - 45s 90ms/step - loss: 0.1164 - accuracy: 0.9553 - f1: 0.7600 - val_loss: 0.1880 - val_accuracy: 0.9355 - val_f1: 0.7997\n",
            "Epoch 5/5\n",
            "500/500 [==============================] - 45s 90ms/step - loss: 0.0882 - accuracy: 0.9671 - f1: 0.7852 - val_loss: 0.1996 - val_accuracy: 0.9285 - val_f1: 0.8038\n",
            "------------------------------------------------------------------\n",
            "Iter - 4\n",
            "{'unit_4': 128, 'unit_3': 128, 'unit_2': 128, 'unit_1': 64}\n",
            "Epoch 1/5\n",
            "500/500 [==============================] - 49s 84ms/step - loss: 1.1218 - accuracy: 0.5692 - f1: 0.4706 - val_loss: 0.6818 - val_accuracy: 0.7745 - val_f1: 0.5460\n",
            "Epoch 2/5\n",
            "500/500 [==============================] - 39s 77ms/step - loss: 0.3863 - accuracy: 0.8664 - f1: 0.6222 - val_loss: 0.2474 - val_accuracy: 0.9140 - val_f1: 0.6687\n",
            "Epoch 3/5\n",
            "500/500 [==============================] - 39s 78ms/step - loss: 0.1940 - accuracy: 0.9342 - f1: 0.7010 - val_loss: 0.1989 - val_accuracy: 0.9240 - val_f1: 0.7265\n",
            "Epoch 4/5\n",
            "500/500 [==============================] - 39s 78ms/step - loss: 0.1166 - accuracy: 0.9593 - f1: 0.7615 - val_loss: 0.2048 - val_accuracy: 0.9280 - val_f1: 0.8339\n",
            "Epoch 5/5\n",
            "500/500 [==============================] - 39s 78ms/step - loss: 0.0857 - accuracy: 0.9704 - f1: 0.7849 - val_loss: 0.2252 - val_accuracy: 0.9295 - val_f1: 0.7940\n",
            "------------------------------------------------------------------\n",
            "Iter - 5\n",
            "{'unit_4': 256, 'unit_3': 256, 'unit_2': 128, 'unit_1': 256}\n",
            "Epoch 1/5\n",
            "500/500 [==============================] - 62s 108ms/step - loss: 1.1027 - accuracy: 0.5988 - f1: 0.4846 - val_loss: 0.5609 - val_accuracy: 0.8210 - val_f1: 0.5979\n",
            "Epoch 2/5\n",
            "500/500 [==============================] - 51s 103ms/step - loss: 0.3187 - accuracy: 0.8974 - f1: 0.6836 - val_loss: 0.2052 - val_accuracy: 0.9320 - val_f1: 0.8038\n",
            "Epoch 3/5\n",
            "500/500 [==============================] - 52s 104ms/step - loss: 0.1643 - accuracy: 0.9373 - f1: 0.7612 - val_loss: 0.1787 - val_accuracy: 0.9295 - val_f1: 0.8532\n",
            "Epoch 4/5\n",
            "500/500 [==============================] - 51s 103ms/step - loss: 0.1189 - accuracy: 0.9523 - f1: 0.8227 - val_loss: 0.1601 - val_accuracy: 0.9320 - val_f1: 0.8570\n",
            "Epoch 5/5\n",
            "500/500 [==============================] - 51s 103ms/step - loss: 0.0969 - accuracy: 0.9638 - f1: 0.8566 - val_loss: 0.2018 - val_accuracy: 0.9280 - val_f1: 0.8679\n",
            "-------------------------------------------------------\n",
            "f1_score: 0.86792\n",
            "Grid: [5, {'unit_4': 256, 'unit_3': 256, 'unit_2': 128, 'unit_1': 256}]\n"
          ]
        }
      ],
      "source": [
        "gs = run_grid()"
      ]
    },
    {
      "cell_type": "code",
      "execution_count": null,
      "metadata": {
        "colab": {
          "base_uri": "https://localhost:8080/",
          "height": 206
        },
        "id": "k3cgPGi7i6_z",
        "outputId": "69a0b582-61e7-44a9-afea-2993bc09602f"
      },
      "outputs": [
        {
          "output_type": "execute_result",
          "data": {
            "text/plain": [
              "                                               Param  \\\n",
              "0  {'unit_4': 128, 'unit_3': 128, 'unit_2': 256, ...   \n",
              "1  {'unit_4': 64, 'unit_3': 64, 'unit_2': 64, 'un...   \n",
              "2  {'unit_4': 128, 'unit_3': 256, 'unit_2': 64, '...   \n",
              "3  {'unit_4': 128, 'unit_3': 128, 'unit_2': 128, ...   \n",
              "4  {'unit_4': 256, 'unit_3': 256, 'unit_2': 128, ...   \n",
              "\n",
              "                                             history  \n",
              "0  {'loss': [1.074530005455017, 0.339083254337310...  \n",
              "1  {'loss': [1.1578845977783203, 0.35875457525253...  \n",
              "2  {'loss': [1.017234444618225, 0.266397207975387...  \n",
              "3  {'loss': [1.121776819229126, 0.386341214179992...  \n",
              "4  {'loss': [1.102744460105896, 0.318675607442855...  "
            ],
            "text/html": [
              "\n",
              "  <div id=\"df-a02eab90-e4cd-4785-bf5a-03b3bb6c1abf\">\n",
              "    <div class=\"colab-df-container\">\n",
              "      <div>\n",
              "<style scoped>\n",
              "    .dataframe tbody tr th:only-of-type {\n",
              "        vertical-align: middle;\n",
              "    }\n",
              "\n",
              "    .dataframe tbody tr th {\n",
              "        vertical-align: top;\n",
              "    }\n",
              "\n",
              "    .dataframe thead th {\n",
              "        text-align: right;\n",
              "    }\n",
              "</style>\n",
              "<table border=\"1\" class=\"dataframe\">\n",
              "  <thead>\n",
              "    <tr style=\"text-align: right;\">\n",
              "      <th></th>\n",
              "      <th>Param</th>\n",
              "      <th>history</th>\n",
              "    </tr>\n",
              "  </thead>\n",
              "  <tbody>\n",
              "    <tr>\n",
              "      <th>0</th>\n",
              "      <td>{'unit_4': 128, 'unit_3': 128, 'unit_2': 256, ...</td>\n",
              "      <td>{'loss': [1.074530005455017, 0.339083254337310...</td>\n",
              "    </tr>\n",
              "    <tr>\n",
              "      <th>1</th>\n",
              "      <td>{'unit_4': 64, 'unit_3': 64, 'unit_2': 64, 'un...</td>\n",
              "      <td>{'loss': [1.1578845977783203, 0.35875457525253...</td>\n",
              "    </tr>\n",
              "    <tr>\n",
              "      <th>2</th>\n",
              "      <td>{'unit_4': 128, 'unit_3': 256, 'unit_2': 64, '...</td>\n",
              "      <td>{'loss': [1.017234444618225, 0.266397207975387...</td>\n",
              "    </tr>\n",
              "    <tr>\n",
              "      <th>3</th>\n",
              "      <td>{'unit_4': 128, 'unit_3': 128, 'unit_2': 128, ...</td>\n",
              "      <td>{'loss': [1.121776819229126, 0.386341214179992...</td>\n",
              "    </tr>\n",
              "    <tr>\n",
              "      <th>4</th>\n",
              "      <td>{'unit_4': 256, 'unit_3': 256, 'unit_2': 128, ...</td>\n",
              "      <td>{'loss': [1.102744460105896, 0.318675607442855...</td>\n",
              "    </tr>\n",
              "  </tbody>\n",
              "</table>\n",
              "</div>\n",
              "      <button class=\"colab-df-convert\" onclick=\"convertToInteractive('df-a02eab90-e4cd-4785-bf5a-03b3bb6c1abf')\"\n",
              "              title=\"Convert this dataframe to an interactive table.\"\n",
              "              style=\"display:none;\">\n",
              "        \n",
              "  <svg xmlns=\"http://www.w3.org/2000/svg\" height=\"24px\"viewBox=\"0 0 24 24\"\n",
              "       width=\"24px\">\n",
              "    <path d=\"M0 0h24v24H0V0z\" fill=\"none\"/>\n",
              "    <path d=\"M18.56 5.44l.94 2.06.94-2.06 2.06-.94-2.06-.94-.94-2.06-.94 2.06-2.06.94zm-11 1L8.5 8.5l.94-2.06 2.06-.94-2.06-.94L8.5 2.5l-.94 2.06-2.06.94zm10 10l.94 2.06.94-2.06 2.06-.94-2.06-.94-.94-2.06-.94 2.06-2.06.94z\"/><path d=\"M17.41 7.96l-1.37-1.37c-.4-.4-.92-.59-1.43-.59-.52 0-1.04.2-1.43.59L10.3 9.45l-7.72 7.72c-.78.78-.78 2.05 0 2.83L4 21.41c.39.39.9.59 1.41.59.51 0 1.02-.2 1.41-.59l7.78-7.78 2.81-2.81c.8-.78.8-2.07 0-2.86zM5.41 20L4 18.59l7.72-7.72 1.47 1.35L5.41 20z\"/>\n",
              "  </svg>\n",
              "      </button>\n",
              "      \n",
              "  <style>\n",
              "    .colab-df-container {\n",
              "      display:flex;\n",
              "      flex-wrap:wrap;\n",
              "      gap: 12px;\n",
              "    }\n",
              "\n",
              "    .colab-df-convert {\n",
              "      background-color: #E8F0FE;\n",
              "      border: none;\n",
              "      border-radius: 50%;\n",
              "      cursor: pointer;\n",
              "      display: none;\n",
              "      fill: #1967D2;\n",
              "      height: 32px;\n",
              "      padding: 0 0 0 0;\n",
              "      width: 32px;\n",
              "    }\n",
              "\n",
              "    .colab-df-convert:hover {\n",
              "      background-color: #E2EBFA;\n",
              "      box-shadow: 0px 1px 2px rgba(60, 64, 67, 0.3), 0px 1px 3px 1px rgba(60, 64, 67, 0.15);\n",
              "      fill: #174EA6;\n",
              "    }\n",
              "\n",
              "    [theme=dark] .colab-df-convert {\n",
              "      background-color: #3B4455;\n",
              "      fill: #D2E3FC;\n",
              "    }\n",
              "\n",
              "    [theme=dark] .colab-df-convert:hover {\n",
              "      background-color: #434B5C;\n",
              "      box-shadow: 0px 1px 3px 1px rgba(0, 0, 0, 0.15);\n",
              "      filter: drop-shadow(0px 1px 2px rgba(0, 0, 0, 0.3));\n",
              "      fill: #FFFFFF;\n",
              "    }\n",
              "  </style>\n",
              "\n",
              "      <script>\n",
              "        const buttonEl =\n",
              "          document.querySelector('#df-a02eab90-e4cd-4785-bf5a-03b3bb6c1abf button.colab-df-convert');\n",
              "        buttonEl.style.display =\n",
              "          google.colab.kernel.accessAllowed ? 'block' : 'none';\n",
              "\n",
              "        async function convertToInteractive(key) {\n",
              "          const element = document.querySelector('#df-a02eab90-e4cd-4785-bf5a-03b3bb6c1abf');\n",
              "          const dataTable =\n",
              "            await google.colab.kernel.invokeFunction('convertToInteractive',\n",
              "                                                     [key], {});\n",
              "          if (!dataTable) return;\n",
              "\n",
              "          const docLinkHtml = 'Like what you see? Visit the ' +\n",
              "            '<a target=\"_blank\" href=https://colab.research.google.com/notebooks/data_table.ipynb>data table notebook</a>'\n",
              "            + ' to learn more about interactive tables.';\n",
              "          element.innerHTML = '';\n",
              "          dataTable['output_type'] = 'display_data';\n",
              "          await google.colab.output.renderOutput(dataTable, element);\n",
              "          const docLink = document.createElement('div');\n",
              "          docLink.innerHTML = docLinkHtml;\n",
              "          element.appendChild(docLink);\n",
              "        }\n",
              "      </script>\n",
              "    </div>\n",
              "  </div>\n",
              "  "
            ]
          },
          "metadata": {},
          "execution_count": 14
        }
      ],
      "source": [
        "result_grid = gs[1]\n",
        "result_grid"
      ]
    },
    {
      "cell_type": "code",
      "execution_count": null,
      "metadata": {
        "colab": {
          "base_uri": "https://localhost:8080/"
        },
        "id": "vMCiuE4ai3-1",
        "outputId": "5377f470-521c-411e-c703-adfa319bf940"
      },
      "outputs": [
        {
          "output_type": "execute_result",
          "data": {
            "text/plain": [
              "[5, {'unit_1': 256, 'unit_2': 128, 'unit_3': 256, 'unit_4': 256}]"
            ]
          },
          "metadata": {},
          "execution_count": 15
        }
      ],
      "source": [
        "best_param = gs[0]\n",
        "best_param"
      ]
    },
    {
      "cell_type": "markdown",
      "metadata": {
        "id": "LW9JV-Pb-Q_4"
      },
      "source": [
        "## Run Model with Best Param"
      ]
    },
    {
      "cell_type": "code",
      "source": [
        "best_model = load_model('/content/drive/MyDrive/DTS/Proa_ML_tensor/Assignment_nlp/emotion_model.h5', custom_objects={'f1':f1}, compile=False)"
      ],
      "metadata": {
        "id": "1QJj5yWmFoMn"
      },
      "execution_count": null,
      "outputs": []
    },
    {
      "cell_type": "code",
      "execution_count": null,
      "metadata": {
        "id": "VSjuWsCsQprG"
      },
      "outputs": [],
      "source": [
        "#Callback\n",
        "callback = EarlyStopping(\n",
        "    min_delta=0.01, \n",
        "    mode='max', \n",
        "    monitor='val_f1', \n",
        "    patience=7, \n",
        "    restore_best_weights=True\n",
        ")"
      ]
    },
    {
      "cell_type": "code",
      "execution_count": null,
      "metadata": {
        "id": "CM_GyHrFQprI",
        "colab": {
          "base_uri": "https://localhost:8080/"
        },
        "outputId": "1bf7ac85-745b-4dbe-fe47-fd07c5eef744"
      },
      "outputs": [
        {
          "output_type": "stream",
          "name": "stdout",
          "text": [
            "Epoch 1/50\n",
            "500/500 [==============================] - 62s 108ms/step - loss: 0.0884 - accuracy: 0.9668 - f1: 0.9230 - val_loss: 0.1708 - val_accuracy: 0.9355 - val_f1: 0.9031\n",
            "Epoch 2/50\n",
            "500/500 [==============================] - 51s 102ms/step - loss: 0.0600 - accuracy: 0.9782 - f1: 0.9360 - val_loss: 0.1913 - val_accuracy: 0.9350 - val_f1: 0.9045\n",
            "Epoch 3/50\n",
            "500/500 [==============================] - 52s 104ms/step - loss: 0.0489 - accuracy: 0.9816 - f1: 0.9534 - val_loss: 0.2153 - val_accuracy: 0.9350 - val_f1: 0.9293\n",
            "Epoch 4/50\n",
            "500/500 [==============================] - 51s 102ms/step - loss: 0.0440 - accuracy: 0.9837 - f1: 0.9623 - val_loss: 0.2549 - val_accuracy: 0.9360 - val_f1: 0.9330\n",
            "Epoch 5/50\n",
            "500/500 [==============================] - 51s 102ms/step - loss: 0.0364 - accuracy: 0.9871 - f1: 0.9723 - val_loss: 0.3050 - val_accuracy: 0.9315 - val_f1: 0.9260\n",
            "Epoch 6/50\n",
            "500/500 [==============================] - 51s 103ms/step - loss: 0.0350 - accuracy: 0.9879 - f1: 0.9776 - val_loss: 0.2670 - val_accuracy: 0.9300 - val_f1: 0.9238\n",
            "Epoch 7/50\n",
            "500/500 [==============================] - 73s 145ms/step - loss: 0.0262 - accuracy: 0.9911 - f1: 0.9808 - val_loss: 0.2881 - val_accuracy: 0.9335 - val_f1: 0.9285\n",
            "Epoch 8/50\n",
            "500/500 [==============================] - 59s 117ms/step - loss: 0.0188 - accuracy: 0.9926 - f1: 0.9854 - val_loss: 0.3202 - val_accuracy: 0.9365 - val_f1: 0.9342\n",
            "Epoch 9/50\n",
            "500/500 [==============================] - 52s 105ms/step - loss: 0.0244 - accuracy: 0.9920 - f1: 0.9850 - val_loss: 0.2457 - val_accuracy: 0.9375 - val_f1: 0.9352\n",
            "Epoch 10/50\n",
            "500/500 [==============================] - 53s 106ms/step - loss: 0.0303 - accuracy: 0.9908 - f1: 0.9849 - val_loss: 0.2765 - val_accuracy: 0.9410 - val_f1: 0.9365\n"
          ]
        }
      ],
      "source": [
        "# compile\n",
        "best_model.compile(loss='categorical_crossentropy', optimizer=Adam(learning_rate=1e-3), metrics=['accuracy',f1])\n",
        "\n",
        "# Fit model\n",
        "history = best_model.fit(X_train, y_train_cat, \n",
        "                    validation_data=(X_val, y_val_cat),\n",
        "                    epochs=50,\n",
        "                    batch_size=32,\n",
        "                    verbose=1,\n",
        "                    callbacks=callback\n",
        "                    )\n",
        "                    "
      ]
    },
    {
      "cell_type": "code",
      "execution_count": null,
      "metadata": {
        "id": "0nDWFQMR3dDO",
        "colab": {
          "base_uri": "https://localhost:8080/",
          "height": 279
        },
        "outputId": "3f5a13ed-63c2-4098-f55a-bfdfc6df88ed"
      },
      "outputs": [
        {
          "output_type": "display_data",
          "data": {
            "text/plain": [
              "<Figure size 432x288 with 2 Axes>"
            ],
            "image/png": "[encoded data removed]"
          },
          "metadata": {
            "needs_background": "light"
          }
        }
      ],
      "source": [
        "from sklearn.metrics import confusion_matrix,ConfusionMatrixDisplay\n",
        "y_pred = le.inverse_transform(np.argmax(best_model.predict(X_test), axis=-1))\n",
        "cm = confusion_matrix(y_pred, y_test, \n",
        "                                 labels=list(le.classes_))\n",
        "disp = ConfusionMatrixDisplay(confusion_matrix=cm,\n",
        "                              display_labels=list(le.classes_))\n",
        "disp.plot()\n",
        "plt.show()"
      ]
    },
    {
      "cell_type": "code",
      "source": [
        "best_model_before = load_model('/content/drive/MyDrive/DTS/Proa_ML_tensor/Assignment_nlp/emotion_model.h5', custom_objects={'f1':f1}, compile=False)\n",
        "best_model_before.compile(loss='categorical_crossentropy', optimizer=Adam(learning_rate=1e-3), metrics=['accuracy',f1])\n",
        "best_model_before.evaluate(X_test, y_test_cat, verbose=1)"
      ],
      "metadata": {
        "id": "xcrpbdNWGYs0",
        "colab": {
          "base_uri": "https://localhost:8080/"
        },
        "outputId": "96b137ba-55ea-44f1-92e8-4ba1a903e3c0"
      },
      "execution_count": null,
      "outputs": [
        {
          "output_type": "stream",
          "name": "stdout",
          "text": [
            "63/63 [==============================] - 6s 39ms/step - loss: 0.2063 - accuracy: 0.9200 - f1: 0.8722\n"
          ]
        },
        {
          "output_type": "execute_result",
          "data": {
            "text/plain": [
              "[0.2063012421131134, 0.9200000166893005, 0.8722041249275208]"
            ]
          },
          "metadata": {},
          "execution_count": 20
        }
      ]
    },
    {
      "cell_type": "code",
      "execution_count": null,
      "metadata": {
        "id": "Duln-TnJQprI",
        "colab": {
          "base_uri": "https://localhost:8080/"
        },
        "outputId": "e51ab0f8-e01b-4fdf-a472-ae4834d22634"
      },
      "outputs": [
        {
          "output_type": "stream",
          "name": "stdout",
          "text": [
            "63/63 [==============================] - 2s 38ms/step - loss: 0.2480 - accuracy: 0.9270 - f1: 0.9240\n"
          ]
        },
        {
          "output_type": "execute_result",
          "data": {
            "text/plain": [
              "[0.248041570186615, 0.9269999861717224, 0.9240471720695496]"
            ]
          },
          "metadata": {},
          "execution_count": 21
        }
      ],
      "source": [
        "best_model.evaluate(X_test, y_test_cat, verbose=1)"
      ]
    },
    {
      "cell_type": "code",
      "execution_count": null,
      "metadata": {
        "id": "0E60nVznQprO",
        "colab": {
          "base_uri": "https://localhost:8080/",
          "height": 827
        },
        "outputId": "2837f6c9-d003-4462-9114-3a46d8504a57"
      },
      "outputs": [
        {
          "output_type": "display_data",
          "data": {
            "text/plain": [
              "<Figure size 432x288 with 1 Axes>"
            ],
            "image/png": "[encoded data removed]"
          },
          "metadata": {
            "needs_background": "light"
          }
        },
        {
          "output_type": "display_data",
          "data": {
            "text/plain": [
              "<Figure size 432x288 with 1 Axes>"
            ],
            "image/png": "[encoded data removed]"
          },
          "metadata": {
            "needs_background": "light"
          }
        },
        {
          "output_type": "display_data",
          "data": {
            "text/plain": [
              "<Figure size 432x288 with 1 Axes>"
            ],
            "image/png": "[encoded data removed]"
          },
          "metadata": {
            "needs_background": "light"
          }
        },
        {
          "output_type": "display_data",
          "data": {
            "text/plain": [
              "<Figure size 432x288 with 0 Axes>"
            ]
          },
          "metadata": {}
        }
      ],
      "source": [
        "# Visualize Loss & Accuracy\n",
        "\n",
        "%matplotlib inline\n",
        "import matplotlib.pyplot as plt\n",
        "acc = history.history['accuracy']\n",
        "val_acc = history.history['val_accuracy']\n",
        "loss = history.history['loss']\n",
        "val_loss = history.history['val_loss']\n",
        "f1_score = history.history['f1']\n",
        "val_f1_score = history.history['val_f1']\n",
        "\n",
        "epochs = range(len(acc))\n",
        "\n",
        "plt.plot(epochs, acc, 'r', label='Training accuracy')\n",
        "plt.plot(epochs, val_acc, 'b', label='Validation accuracy')\n",
        "plt.title('Training and validation accuracy')\n",
        "plt.legend()\n",
        "plt.figure()\n",
        "\n",
        "plt.plot(epochs, loss, 'r', label='Training Loss')\n",
        "plt.plot(epochs, val_loss, 'b', label='Validation Loss')\n",
        "plt.title('Training and validation loss')\n",
        "plt.legend()\n",
        "plt.figure()\n",
        "\n",
        "plt.plot(epochs, f1_score, 'r', label='Training f1_score')\n",
        "plt.plot(epochs, val_f1_score, 'b', label='Validation f1_score')\n",
        "plt.title('Training and validation f1_score')\n",
        "plt.legend()\n",
        "plt.figure()\n",
        "\n",
        "plt.show()"
      ]
    },
    {
      "cell_type": "code",
      "execution_count": null,
      "metadata": {
        "id": "hFGFd0gQQprP",
        "colab": {
          "base_uri": "https://localhost:8080/"
        },
        "outputId": "b1ee08b0-94f7-4c10-bd0a-49d2c15faafb"
      },
      "outputs": [
        {
          "output_type": "stream",
          "name": "stdout",
          "text": [
            "the food is delicious\n",
            "joy : 0.999147355556488\n",
            "\n"
          ]
        }
      ],
      "source": [
        "# Classify custom sample\n",
        "\n",
        "sentences = [\n",
        "            \"the food is delicious\"\n",
        "            ]\n",
        "for sentence in sentences:\n",
        "    print(sentence)\n",
        "    sentence = clean(sentence)\n",
        "    sentence = tokenizer.texts_to_sequences([sentence])\n",
        "    sentence = pad_sequences(sentence, maxlen=256, truncating='pre')\n",
        "    result = le.inverse_transform(np.argmax(best_model.predict(sentence), axis=-1))[0]\n",
        "    proba =  np.max(best_model.predict(sentence))\n",
        "    print(f\"{result} : {proba}\\n\")"
      ]
    },
    {
      "cell_type": "code",
      "execution_count": null,
      "metadata": {
        "id": "1OAz47lBQprP"
      },
      "outputs": [],
      "source": [
        "import pickle\n",
        "with open('tokenizer.pickle', 'wb') as f:\n",
        "    pickle.dump(tokenizer, f)\n",
        "    \n",
        "with open('labelEncoder.pickle', 'wb') as f:\n",
        "    pickle.dump(le, f)\n",
        "    \n",
        "    \n",
        "best_model.save('/content/drive/MyDrive/DTS/Proa_ML_tensor/Assignment_nlp/Emotion_Recognition.h5')"
      ]
    }
  ],
  "metadata": {
    "colab": {
      "provenance": [],
      "include_colab_link": true
    },
    "gpuClass": "standard",
    "kernelspec": {
      "display_name": "Python 3",
      "language": "python",
      "name": "python3"
    },
    "language_info": {
      "codemirror_mode": {
        "name": "ipython",
        "version": 3
      },
      "file_extension": ".py",
      "mimetype": "text/x-python",
      "name": "python",
      "nbconvert_exporter": "python",
      "pygments_lexer": "ipython3",
      "version": "3.6.4"
    }
  },
  "nbformat": 4,
  "nbformat_minor": 0
}